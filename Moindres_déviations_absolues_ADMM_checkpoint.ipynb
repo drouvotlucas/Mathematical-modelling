{
  "cells": [
    {
      "cell_type": "markdown",
      "metadata": {
        "id": "view-in-github",
        "colab_type": "text"
      },
      "source": [
        "<a href=\"https://colab.research.google.com/github/drouvotlucas/Mathematical-modelling/blob/main/Moindres_d%C3%A9viations_absolues_ADMM_checkpoint.ipynb\" target=\"_parent\"><img src=\"https://colab.research.google.com/assets/colab-badge.svg\" alt=\"Open In Colab\"/></a>"
      ]
    },
    {
      "cell_type": "markdown",
      "metadata": {
        "id": "h6dP1SbWZ9nI"
      },
      "source": [
        "# Moindres Déviations Absolues : l'algorithme ADMM\n",
        "\n"
      ]
    },
    {
      "cell_type": "code",
      "source": [
        "from google.colab import drive\n",
        "drive.mount('/content/drive')"
      ],
      "metadata": {
        "colab": {
          "base_uri": "https://localhost:8080/"
        },
        "id": "OBEQv05bMuyL",
        "outputId": "925d38e4-5a90-4809-bee2-887b6d61f1b2"
      },
      "execution_count": null,
      "outputs": [
        {
          "output_type": "stream",
          "name": "stdout",
          "text": [
            "Drive already mounted at /content/drive; to attempt to forcibly remount, call drive.mount(\"/content/drive\", force_remount=True).\n"
          ]
        }
      ]
    },
    {
      "cell_type": "markdown",
      "source": [
        "## Fonctions"
      ],
      "metadata": {
        "id": "Hg7w-n9iYjtO"
      }
    },
    {
      "cell_type": "code",
      "execution_count": null,
      "metadata": {
        "id": "xeYpccP_Z9nS"
      },
      "outputs": [],
      "source": [
        "import numpy as np\n",
        "import matplotlib.pyplot as plt\n",
        "import seaborn as sns"
      ]
    },
    {
      "cell_type": "code",
      "execution_count": null,
      "metadata": {
        "id": "H4Nc9GhfZ9nU"
      },
      "outputs": [],
      "source": [
        "def droite(A, x):\n",
        "    return A[0]*x + A[1]"
      ]
    },
    {
      "cell_type": "code",
      "execution_count": null,
      "metadata": {
        "scrolled": false,
        "id": "gTDapsl3Z9nY"
      },
      "outputs": [],
      "source": [
        "#Seuillage des composantes d'un vecteur\n",
        "def seuille(a, k) :\n",
        "    # numpy automatically applies functions to each element of the array\n",
        "    return np.sign(a)*np.maximum(0, np.abs(a) - k)"
      ]
    },
    {
      "cell_type": "code",
      "execution_count": null,
      "metadata": {
        "id": "j_u9L9iEZ9nZ"
      },
      "outputs": [],
      "source": [
        "#Fonction principale qui effectue les moindres déviations absoluesavec ADMM\n",
        "def lav(A, b, x0, u0, z0) :\n",
        "    x = x0\n",
        "    z = z0\n",
        "    u = u0\n",
        "    r = 50\n",
        "    alpha = 1/r\n",
        "    epsilon = 0.0000001\n",
        "    iter_max = 1000\n",
        "    At = np.transpose(A)\n",
        "    i = 0\n",
        "    cond=2*epsilon\n",
        "    while (cond>epsilon) :\n",
        "        xx = np.linalg.solve(np.dot(At, A), np.dot(At, b+z-u))\n",
        "        y  = np.dot(A, xx) - b\n",
        "        zz = seuille(y + u, alpha)\n",
        "        uu = y + u - zz\n",
        "        cond = ((np.sqrt(np.square(np.linalg.norm(xx-x)) + np.square(np.linalg.norm(zz-z)) + np.square(np.linalg.norm(uu-u)))))/np.sqrt(np.square(np.linalg.norm(xx))+ np.square(np.linalg.norm(zz)) + np.square(np.linalg.norm(uu)))\n",
        "        u = uu\n",
        "        z = zz\n",
        "        x = xx\n",
        "        i+= 1\n",
        "\n",
        "    return x, i"
      ]
    },
    {
      "cell_type": "markdown",
      "metadata": {
        "id": "PjTrQtUbZ9na"
      },
      "source": [
        "## Test du code avec les données de l'énoncé"
      ]
    },
    {
      "cell_type": "code",
      "execution_count": null,
      "metadata": {
        "scrolled": false,
        "id": "VVA5c8pJZ9nb"
      },
      "outputs": [],
      "source": [
        "# Test du code avec les données de l'énoncé\n",
        "v = np.array([[1.0],[1.0],[1.0],[1.0],[1.0],[1.0],[1.0],[1.0],[1.0],[1.0],[1.0]])\n",
        "t = np.array([[0.0],[0.1],[0.2],[0.3],[0.4],[0.5],[0.6],[0.7],[0.8],[0.9],[1.0]])\n",
        "b = np.array([[2.06],[2.12],[2.32],[2.02],[2.76],[3.04],[2.83],[3.15],[3.36],[3.68],[3.96]])\n",
        "A = np.hstack((v, t))\n",
        "At=np.transpose(A)\n",
        "x0 = np.array([[0], [0]])\n",
        "u0 = np.array([[0], [0], [0], [0], [0], [0], [0], [0], [0], [0], [0]])\n",
        "z0 = np.array([[0], [0], [0], [0], [0], [0], [0], [0], [0], [0], [0]])\n"
      ]
    },
    {
      "cell_type": "code",
      "execution_count": null,
      "metadata": {
        "id": "-PJWrIcJZ9nc",
        "outputId": "4603cc18-265f-47c5-8d53-0df0b906d773",
        "colab": {
          "base_uri": "https://localhost:8080/"
        }
      },
      "outputs": [
        {
          "output_type": "stream",
          "name": "stdout",
          "text": [
            "Solution optimale :\n",
            " [[1.93142885]\n",
            " [1.94285689]]\n",
            "Nombre d'itérations : 132\n",
            "\n"
          ]
        }
      ],
      "source": [
        "x, i = lav(A, b, x0, u0, z0)\n",
        "print(f\"Solution optimale :\\n {x}\\nNombre d'itérations : {i}\\n\")"
      ]
    },
    {
      "cell_type": "markdown",
      "source": [
        "### Comparaison avec les moindres carrés"
      ],
      "metadata": {
        "id": "gmUZ7aCVYO8K"
      }
    },
    {
      "cell_type": "code",
      "source": [
        "x1 = np.linalg.lstsq(np.dot(At,A),np.dot(At,b),rcond=None)[0]\n",
        "plt.figure(figsize=(10,8))\n",
        "plt.plot(t,(x1[0])*t + x1[1],'-v',label=\"moindre carré\")\n",
        "plt.plot(t,x[0]*t + x[1],'-r',label=\"ADMM\")\n",
        "plt.plot(t,b,\"*\")\n",
        "print(x1)"
      ],
      "metadata": {
        "colab": {
          "base_uri": "https://localhost:8080/",
          "height": 712
        },
        "id": "oc-KJO3JYOfc",
        "outputId": "5f151370-c9c8-4de2-b1a0-172af61792ce"
      },
      "execution_count": null,
      "outputs": [
        {
          "output_type": "stream",
          "name": "stdout",
          "text": [
            "[[1.88227273]\n",
            " [1.92636364]]\n"
          ]
        },
        {
          "output_type": "display_data",
          "data": {
            "text/plain": [
              "<Figure size 1000x800 with 1 Axes>"
            ],
            "image/png": "[encoded data removed]"
          },
          "metadata": {}
        }
      ]
    },
    {
      "cell_type": "markdown",
      "source": [
        "### Calcul des erreurs et comparaison"
      ],
      "metadata": {
        "id": "T_hMyaC6QrJg"
      }
    },
    {
      "cell_type": "code",
      "source": [
        "norme1_admm=[]\n",
        "norme2_admm=[]\n",
        "\n",
        "norme1_mcarrees=[]\n",
        "norme2_mcarrees=[]\n",
        "\n",
        "norme1_admm.append(np.linalg.norm(np.dot(A,x)-b,1))\n",
        "norme2_admm.append(np.linalg.norm(np.dot(A,x)-b,2))\n",
        "print(\"erreur norme 1= \", norme1_admm[-1])\n",
        "print(\"erreur norme 2= \", norme2_admm[-1])\n",
        "\n",
        "norme1_mcarrees.append(np.linalg.norm(np.dot(A,x1)-b,1))\n",
        "norme2_mcarrees.append(np.linalg.norm(np.dot(A,x1)-b,2))\n",
        "print(\"erreur norme 1= \", norme1_mcarrees[-1])\n",
        "print(\"erreur norme 2= \", norme2_mcarrees[-1])"
      ],
      "metadata": {
        "colab": {
          "base_uri": "https://localhost:8080/"
        },
        "outputId": "a92eb193-8849-4022-9e2a-6d90d749db50",
        "id": "TUgEJ9NGQo9S"
      },
      "execution_count": null,
      "outputs": [
        {
          "output_type": "stream",
          "name": "stdout",
          "text": [
            "erreur norme 1=  1.4371432689284898\n",
            "erreur norme 2=  0.6299628932424255\n",
            "erreur norme 1=  1.5847272727272699\n",
            "erreur norme 2=  0.6002567632423493\n"
          ]
        }
      ]
    },
    {
      "cell_type": "markdown",
      "source": [
        "On voit que l'ADMM minimise l'erreur pour la norme 1 et que les moindres carrées minimise l'erreur pour la norme 2."
      ],
      "metadata": {
        "id": "66IUAjhFPjFr"
      }
    },
    {
      "cell_type": "markdown",
      "metadata": {
        "id": "nx8f7QOOJjUA"
      },
      "source": [
        "## Test du code avec les données du fichier chomage"
      ]
    },
    {
      "cell_type": "code",
      "source": [
        "A = np.array([\n",
        "    [1.0000e+00,1.9980e+03],\n",
        "   [1.0000e+00,1.9990e+03],\n",
        "   [1.0000e+00,2.0000e+03],\n",
        "   [1.0000e+00,2.0010e+03],\n",
        "   [1.0000e+00,2.0020e+03],\n",
        "   [1.0000e+00,2.0030e+03],\n",
        "   [1.0000e+00,2.0040e+03],\n",
        "   [1.0000e+00,2.0050e+03],\n",
        "   [1.0000e+00,2.0060e+03],\n",
        "   [1.0000e+00,2.0070e+03],\n",
        "   [1.0000e+00,2.0080e+03],\n",
        "   [1.0000e+00,2.0090e+03],\n",
        "   [1.0000e+00,2.0100e+03],\n",
        "   [1.0000e+00,2.0110e+03],\n",
        "   [1.0000e+00,2.0120e+03],\n",
        "   [1.0000e+00,2.0130e+03],\n",
        "   [1.0000e+00,2.0140e+03],\n",
        "   [1.0000e+00,2.0150e+03],\n",
        "   [1.0000e+00,2.0160e+03],\n",
        "   [1.0000e+00,2.0170e+03],\n",
        "   [1.0000e+00,2.0180e+03],\n",
        "   [1.0000e+00,2.0190e+03],\n",
        "   [1.0000e+00,2.0200e+03],\n",
        "   [1.0000e+00,2.0210e+03]\n",
        "])\n",
        "\n",
        "b= np.array([\n",
        "    6.6278e+00,\n",
        "    7.7969e+00,\n",
        "    7.2965e+00,\n",
        "    6.6705e+00,\n",
        "    7.1719e+00,\n",
        "    6.0287e+00,\n",
        "    6.0154e+00,\n",
        "    6.8630e+00,\n",
        "    6.8845e+00,\n",
        "    6.9907e+00,\n",
        "    6.0793e+00,\n",
        "    7.1949e+00,\n",
        "    8.5884e+00,\n",
        "    8.0827e+00,\n",
        "    7.7297e+00,\n",
        "    8.6322e+00,\n",
        "    8.8011e+00,\n",
        "    8.7400e+00,\n",
        "    8.6801e+00,\n",
        "    7.7332e+00,\n",
        "    7.8470e+00,\n",
        "    6.9491e+00,\n",
        "    7.3793e+00,\n",
        "    7.9120e+00\n",
        "])\n",
        "At=np.transpose(A)\n",
        "x0 = np.transpose(np.zeros(np.shape(A)[1]))\n",
        "z0 = np.transpose(np.zeros(np.shape(b)[0]))\n",
        "u0 = np.transpose(np.zeros(np.shape(b)[0]))\n",
        "x, i = lav(A, b, x0, u0, z0)\n",
        "print(f\"Solution optimale :\\n {x}\\nNombre d'itérations : {i}\\n\")"
      ],
      "metadata": {
        "id": "BuBvmI3UJr6o",
        "colab": {
          "base_uri": "https://localhost:8080/"
        },
        "outputId": "e0034476-70c0-47f5-ab80-f15e1e5cb940"
      },
      "execution_count": null,
      "outputs": [
        {
          "output_type": "stream",
          "name": "stdout",
          "text": [
            "Solution optimale :\n",
            " [-1.09613428e+02  5.81787917e-02]\n",
            "Nombre d'itérations : 241\n",
            "\n"
          ]
        }
      ]
    },
    {
      "cell_type": "markdown",
      "source": [
        "### Comparaison avec les moindres carrés"
      ],
      "metadata": {
        "id": "bVFc557Te_8m"
      }
    },
    {
      "cell_type": "code",
      "source": [
        "x1 = np.linalg.lstsq(np.dot(At,A),np.dot(At,b),rcond=None)[0]\n",
        "print(f\"Solution optimale moindre carrés:\\n {x1}\")\n"
      ],
      "metadata": {
        "colab": {
          "base_uri": "https://localhost:8080/"
        },
        "id": "-Wjj963TZ89R",
        "outputId": "192c6fe4-40e1-4eda-e8d6-5e3d579b89e2"
      },
      "execution_count": null,
      "outputs": [
        {
          "output_type": "stream",
          "name": "stdout",
          "text": [
            "Solution optimale moindre carrés:\n",
            " [-1.21687203e+02  6.42611714e-02]\n"
          ]
        }
      ]
    },
    {
      "cell_type": "markdown",
      "source": [
        "### Calcul des erreurs et comparaison"
      ],
      "metadata": {
        "id": "rj3XZTcCP-zj"
      }
    },
    {
      "cell_type": "code",
      "source": [
        "norme1_admm=[]\n",
        "norme2_admm=[]\n",
        "\n",
        "norme1_mcarrees=[]\n",
        "norme2_mcarrees=[]\n",
        "\n",
        "norme1_admm.append(np.linalg.norm(np.dot(A,x)-b,1))\n",
        "norme2_admm.append(np.linalg.norm(np.dot(A,x)-b,2))\n",
        "print(\"erreur norme 1= \", norme1_admm[-1])\n",
        "print(\"erreur norme 2= \", norme2_admm[-1])\n",
        "\n",
        "norme1_mcarrees.append(np.linalg.norm(np.dot(A,x1)-b,1))\n",
        "norme2_mcarrees.append(np.linalg.norm(np.dot(A,x1)-b,2))\n",
        "print(\"erreur norme 1= \", norme1_mcarrees[-1])\n",
        "print(\"erreur norme 2= \", norme2_mcarrees[-1])"
      ],
      "metadata": {
        "colab": {
          "base_uri": "https://localhost:8080/"
        },
        "outputId": "8040b69f-4cc1-4a3f-c271-5b1014dfac9a",
        "id": "pBm6ffYKP9R9"
      },
      "execution_count": null,
      "outputs": [
        {
          "output_type": "stream",
          "name": "stdout",
          "text": [
            "erreur norme 1=  13.991855640628266\n",
            "erreur norme 2=  3.620571657656724\n",
            "erreur norme 1=  14.512150362078078\n",
            "erreur norme 2=  3.540457130936422\n"
          ]
        }
      ]
    },
    {
      "cell_type": "markdown",
      "source": [
        "que l'ADMM minimise l'erreur pour la norme 1 et que les moindres carrées minimise l'erreur pour la norme 2."
      ],
      "metadata": {
        "id": "evCJWCilPv9L"
      }
    },
    {
      "cell_type": "markdown",
      "metadata": {
        "id": "VVRuBy7zPzid"
      },
      "source": [
        "## Test du code avec les données du fichier satisfaction"
      ]
    },
    {
      "cell_type": "code",
      "source": [
        "A = np.array([\n",
        "    [51,30,39,61,92,45],\n",
        "    [64,51,54,63,73,47],\n",
        "    [70,68,69,76,86,48],\n",
        "    [63,45,47,54,84,35],\n",
        "    [78,56,66,71,83,47],\n",
        "    [55,49,44,54,49,34],\n",
        "    [67,42,56,66,68,35],\n",
        "    [75,50,55,70,66,41],\n",
        "    [82,72,67,71,83,31],\n",
        "    [61,45,47,62,80,41],\n",
        "    [53,53,58,58,67,34],\n",
        "    [60,47,39,59,74,41],\n",
        "    [62,57,42,55,63,25],\n",
        "    [83,83,45,59,77,35],\n",
        "    [77,54,72,79,77,46],\n",
        "    [90,50,72,60,54,36],\n",
        "    [85,64,69,79,79,63],\n",
        "    [60,65,75,55,80,60],\n",
        "    [70,46,57,75,85,46],\n",
        "    [58,68,54,64,78,52],\n",
        "    [40,33,34,43,64,33],\n",
        "    [61,52,62,66,80,41],\n",
        "    [66,52,50,63,80,37],\n",
        "    [37,42,58,50,57,49],\n",
        "    [54,42,48,66,75,33],\n",
        "    [77,66,63,88,76,72],\n",
        "    [75,58,74,80,78,49],\n",
        "    [57,44,45,51,83,38],\n",
        "    [85,71,71,77,74,55],\n",
        "    [82,39,59,64,78,39]\n",
        "])\n",
        "\n",
        "b = np.transpose(np.array([43,63,71,61,81,43,58,71,72,67,64,67,69,68,77,81,74,65,65,50,50,64,53,40,63,66,78,48,85,82]))\n",
        "At=np.transpose(A)\n",
        "x0 = np.transpose(np.zeros(np.shape(A)[1]))\n",
        "z0 = np.transpose(np.zeros(np.shape(b)[0]))\n",
        "u0 = np.transpose(np.zeros(np.shape(b)[0]))\n",
        "x, i = lav(A, b, x0, u0, z0)\n",
        "print(f\"Solution optimale :\\n {x}\\nNombre d'itérations : {i}\\n\")"
      ],
      "metadata": {
        "id": "Xr-XotjRP16W",
        "colab": {
          "base_uri": "https://localhost:8080/"
        },
        "outputId": "632ea50d-6ab3-4ce4-c385-6adf412852db"
      },
      "execution_count": null,
      "outputs": [
        {
          "output_type": "stream",
          "name": "stdout",
          "text": [
            "Solution optimale :\n",
            " [ 0.57136269 -0.08908366  0.36724011  0.16453449  0.16146668 -0.30558383]\n",
            "Nombre d'itérations : 4305\n",
            "\n"
          ]
        }
      ]
    },
    {
      "cell_type": "markdown",
      "source": [
        "### Comparaison avec les moindres carrés"
      ],
      "metadata": {
        "id": "0cwQzx86hTxF"
      }
    },
    {
      "cell_type": "code",
      "source": [
        "x1 = np.linalg.lstsq(np.dot(At,A),np.dot(At,b),rcond=None)[0]\n",
        "print(f\"Solution optimale moindre carrés:\\n {x1}\")"
      ],
      "metadata": {
        "colab": {
          "base_uri": "https://localhost:8080/"
        },
        "id": "cFjwKoWIhama",
        "outputId": "f1d61dbf-7067-42c2-f18c-feaaf52cabc5"
      },
      "execution_count": null,
      "outputs": [
        {
          "output_type": "stream",
          "name": "stdout",
          "text": [
            "Solution optimale moindre carrés:\n",
            " [ 0.62339189 -0.05847126  0.34502167  0.09910353  0.12930038 -0.21968958]\n"
          ]
        }
      ]
    },
    {
      "cell_type": "markdown",
      "source": [
        "### Calcul des erreurs et comparaison"
      ],
      "metadata": {
        "id": "ZkU3AhYpOFQ0"
      }
    },
    {
      "cell_type": "code",
      "source": [
        "norme1_admm=[]\n",
        "norme2_admm=[]\n",
        "\n",
        "norme1_mcarrees=[]\n",
        "norme2_mcarrees=[]\n",
        "\n",
        "norme1_admm.append(np.linalg.norm(np.dot(A,x)-b,1))\n",
        "norme2_admm.append(np.linalg.norm(np.dot(A,x)-b,2))\n",
        "print(\"erreur norme 1= \", norme1_admm[-1])\n",
        "print(\"erreur norme 2= \", norme2_admm[-1])\n",
        "\n",
        "norme1_mcarrees.append(np.linalg.norm(np.dot(A,x1)-b,1))\n",
        "norme2_mcarrees.append(np.linalg.norm(np.dot(A,x1)-b,2))\n",
        "print(\"erreur norme 1= \", norme1_mcarrees[-1])\n",
        "print(\"erreur norme 2= \", norme2_mcarrees[-1])"
      ],
      "metadata": {
        "colab": {
          "base_uri": "https://localhost:8080/"
        },
        "id": "ghOa3UOFOLZX",
        "outputId": "c9013403-342a-43ed-e126-83fb3c6996e3"
      },
      "execution_count": null,
      "outputs": [
        {
          "output_type": "stream",
          "name": "stdout",
          "text": [
            "erreur norme 1=  151.4267782338262\n",
            "erreur norme 2=  35.22679881227773\n",
            "erreur norme 1=  156.63121726466449\n",
            "erreur norme 2=  34.529414430650746\n"
          ]
        }
      ]
    },
    {
      "cell_type": "markdown",
      "source": [
        "que l'ADMM minimise l'erreur pour la norme 1 et que les moindres carrées minimise l'erreur pour la norme 2."
      ],
      "metadata": {
        "id": "ENCNiFykP5v4"
      }
    },
    {
      "cell_type": "markdown",
      "metadata": {
        "id": "CyxZTM5tQyPZ"
      },
      "source": [
        "## Test du code avec les données du fichier prix"
      ]
    },
    {
      "cell_type": "code",
      "source": [
        "A = np.array([\n",
        "   [ 4.9176, 1.0000,  3.4720, 0.9980, 1.0000, 7.0000, 4.0000, 42.0000, 3.0000, 1.0000, 0],\n",
        "   [ 5.0208, 1.0000,  3.5310, 1.5000, 2.0000, 7.0000, 4.0000, 62.0000, 1.0000, 1.0000, 0],\n",
        "   [ 4.5429, 1.0000,  2.2750, 1.1750, 1.0000, 6.0000, 3.0000, 40.0000, 2.0000, 1.0000, 0],\n",
        "   [ 4.5573, 1.0000,  4.0500, 1.2320, 1.0000, 6.0000, 3.0000, 54.0000, 4.0000, 1.0000, 0],\n",
        "   [ 5.0597, 1.0000,  4.4550, 1.1210, 1.0000, 6.0000, 3.0000, 42.0000, 3.0000, 1.0000, 0],\n",
        "   [ 3.8910, 1.0000,  4.4550, 0.9880, 1.0000, 6.0000, 3.0000, 56.0000, 2.0000, 1.0000, 0],\n",
        "   [ 5.8980, 1.0000,  5.8500, 1.2400, 1.0000, 7.0000, 3.0000, 51.0000, 2.0000, 1.0000, 1.0000],\n",
        "   [ 5.6039, 1.0000,  9.5200, 1.5010,      0, 6.0000, 3.0000, 32.0000, 1.0000, 1.0000, 0],\n",
        "   [16.4202, 2.5000,  9.8000, 3.4200, 2.0000,10.0000, 5.0000, 42.0000, 2.0000, 1.0000, 1.0000],\n",
        "   [14.4598, 2.5000, 12.8000, 3.0000, 2.0000, 9.0000, 5.0000, 14.0000, 4.0000, 1.0000, 1.0000],\n",
        "   [ 5.8282, 1.0000,  6.4350, 1.2250, 2.0000, 6.0000, 3.0000, 32.0000, 1.0000, 1.0000, 0],\n",
        "   [ 5.3003, 1.0000,  4.9883, 1.5520, 1.0000, 6.0000, 3.0000, 30.0000, 1.0000, 2.0000, 0],\n",
        "   [ 6.2712, 1.0000,  5.5200, 0.9750, 1.0000, 5.0000, 2.0000, 30.0000, 1.0000, 2.0000, 0],\n",
        "   [ 5.9592, 1.0000,  6.6660, 1.1210, 2.0000, 6.0000, 3.0000, 32.0000, 2.0000, 1.0000, 0],\n",
        "   [ 5.0500, 1.0000,  5.0000, 1.0200,      0, 5.0000, 2.0000, 46.0000, 4.0000, 1.0000, 1.0000],\n",
        "   [ 5.6039, 1.0000,  9.5200, 1.5010,      0, 6.0000, 3.0000, 32.0000, 1.0000, 1.0000, 0],\n",
        "   [ 8.2464, 1.5000,  5.1500, 1.6640, 2.0000, 8.0000, 4.0000, 50.0000, 4.0000, 1.0000, 0],\n",
        "   [ 6.6969, 1.5000,  6.9020, 1.4880, 1.5000, 7.0000, 3.0000, 22.0000, 1.0000, 1.0000, 1.0000],\n",
        "   [ 7.7841, 1.5000,  7.1020, 1.3760, 1.0000, 6.0000, 3.0000, 17.0000, 2.0000, 1.0000, 0],\n",
        "   [ 9.0384, 1.0000,  7.8000, 1.5000, 1.5000, 7.0000, 3.0000, 23.0000, 3.0000, 3.0000, 0],\n",
        "   [ 5.9894, 1.0000,  5.5200, 1.2560, 2.0000, 6.0000, 3.0000, 40.0000, 4.0000, 1.0000, 1.0000],\n",
        "   [ 7.5422, 1.5000,  4.0000, 1.6900, 1.0000, 6.0000, 3.0000, 22.0000, 1.0000, 1.0000, 0],\n",
        "   [ 8.7951, 1.5000,  9.8900, 1.8200, 2.0000, 8.0000, 4.0000, 50.0000, 1.0000, 1.0000, 1.0000],\n",
        "   [ 6.0931, 1.5000,  6.7265, 1.6520, 1.0000, 6.0000, 3.0000, 44.0000, 4.0000, 1.0000, 0],\n",
        "   [ 8.3607, 1.5000,  9.1500, 1.7770, 2.0000, 8.0000, 4.0000, 48.0000, 1.0000, 1.0000, 1.0000],\n",
        "   [ 8.1400, 1.0000,  8.0000, 1.5040, 2.0000, 7.0000, 3.0000,  3.0000, 1.0000, 3.0000, 0],\n",
        "   [ 9.1416, 1.5000,  7.3262, 1.8310, 1.5000, 8.0000, 4.0000, 31.0000, 4.0000, 1.0000, 0],\n",
        "   [12.0000, 1.5000,  5.0000, 1.2000, 2.0000, 6.0000, 3.0000, 30.0000, 3.0000, 1.0000, 1.0000]\n",
        "])\n",
        "\n",
        "b = np.array([\n",
        "    25.9000,\n",
        "    29.5000,\n",
        "    27.9000,\n",
        "    25.9000,\n",
        "    29.9000,\n",
        "    29.9000,\n",
        "    30.9000,\n",
        "    28.9000,\n",
        "    84.9000,\n",
        "    82.9000,\n",
        "    35.9000,\n",
        "    31.5000,\n",
        "    31.0000,\n",
        "    30.9000,\n",
        "    30.0000,\n",
        "    28.9000,\n",
        "    36.9000,\n",
        "    41.9000,\n",
        "    40.5000,\n",
        "    43.9000,\n",
        "    37.5000,\n",
        "    37.9000,\n",
        "    44.5000,\n",
        "    37.9000,\n",
        "    38.9000,\n",
        "    36.9000,\n",
        "    45.8000,\n",
        "    41.0000\n",
        "])\n",
        "\n",
        "At=np.transpose(A)\n",
        "x0 = np.transpose(np.zeros(np.shape(A)[1]))\n",
        "z0 = np.transpose(np.zeros(np.shape(b)[0]))\n",
        "u0 = np.transpose(np.zeros(np.shape(b)[0]))\n",
        "x, i = lav(A, b, x0, u0, z0)\n",
        "print(f\"Solution optimale :\\n {x}\\nNombre d'itérations : {i}\\n\")"
      ],
      "metadata": {
        "id": "oyM2CKUTQ51W",
        "colab": {
          "base_uri": "https://localhost:8080/"
        },
        "outputId": "e87f064a-f0b5-4abf-ea5d-1b82c613f917"
      },
      "execution_count": null,
      "outputs": [
        {
          "output_type": "stream",
          "name": "stdout",
          "text": [
            "Solution optimale :\n",
            " [ 1.68666446 11.31232918  0.03172854  8.54042216  1.79157238 -2.39865449\n",
            "  2.34877595 -0.05837365  0.74366349  3.48443516  4.82196205]\n",
            "Nombre d'itérations : 11399\n",
            "\n"
          ]
        }
      ]
    },
    {
      "cell_type": "markdown",
      "source": [
        "### Comparaison avec les moindres carrés"
      ],
      "metadata": {
        "id": "wPXtu1TihV_B"
      }
    },
    {
      "cell_type": "code",
      "source": [
        "x1 = np.linalg.lstsq(np.dot(At,A),np.dot(At,b),rcond=None)[0]\n",
        "print(f\"Solution optimale moindre carrés:\\n {x1}\")"
      ],
      "metadata": {
        "colab": {
          "base_uri": "https://localhost:8080/"
        },
        "id": "KO4VULCghZM5",
        "outputId": "448e4f78-43e5-4004-fd31-6086c412f6a1"
      },
      "execution_count": null,
      "outputs": [
        {
          "output_type": "stream",
          "name": "stdout",
          "text": [
            "Solution optimale moindre carrés:\n",
            " [ 0.78476424 10.38692747  0.22634789 12.46564715  1.81521629 -0.86999651\n",
            " -0.25879357 -0.05848319  1.02605806  1.79247025  2.68075214]\n"
          ]
        }
      ]
    },
    {
      "cell_type": "markdown",
      "source": [
        "### Calcul des erreurs et comparaison"
      ],
      "metadata": {
        "id": "R66N9YO-PcFZ"
      }
    },
    {
      "cell_type": "code",
      "source": [
        "norme1_admm=[]\n",
        "norme2_admm=[]\n",
        "\n",
        "norme1_mcarrees=[]\n",
        "norme2_mcarrees=[]\n",
        "\n",
        "norme1_admm.append(np.linalg.norm(np.dot(A,x)-b,1))\n",
        "norme2_admm.append(np.linalg.norm(np.dot(A,x)-b,2))\n",
        "print(\"erreur norme 1= \", norme1_admm[-1])\n",
        "print(\"erreur norme 2= \", norme2_admm[-1])\n",
        "\n",
        "norme1_mcarrees.append(np.linalg.norm(np.dot(A,x1)-b,1))\n",
        "norme2_mcarrees.append(np.linalg.norm(np.dot(A,x1)-b,2))\n",
        "print(\"erreur norme 1= \", norme1_mcarrees[-1])\n",
        "print(\"erreur norme 2= \", norme2_mcarrees[-1])"
      ],
      "metadata": {
        "colab": {
          "base_uri": "https://localhost:8080/"
        },
        "outputId": "137f91d4-618e-4beb-c8c7-5b5ded3a7e4d",
        "id": "G6maIChGPdTX"
      },
      "execution_count": null,
      "outputs": [
        {
          "output_type": "stream",
          "name": "stdout",
          "text": [
            "erreur norme 1=  62.43271077073345\n",
            "erreur norme 2=  19.85675837377815\n",
            "erreur norme 1=  70.45260989385908\n",
            "erreur norme 2=  16.19766320936429\n"
          ]
        }
      ]
    },
    {
      "cell_type": "markdown",
      "source": [
        "que l'ADMM minimise l'erreur pour la norme 1 et que les moindres carrées minimise l'erreur pour la norme 2."
      ],
      "metadata": {
        "id": "kcy_m0_SQBLi"
      }
    },
    {
      "cell_type": "markdown",
      "source": [
        "## Test du code avec les données m=1000 n=100"
      ],
      "metadata": {
        "id": "2n68YNpuN7hT"
      }
    },
    {
      "cell_type": "code",
      "source": [
        "A = np.genfromtxt(\"/content/drive/MyDrive/isima/ISIMA ZZ3/opti convexe/tp1/lav_A_1000x100.dat\", delimiter=\" \", dtype=np.float64)\n",
        "b = np.genfromtxt(\"/content/drive/MyDrive/isima/ISIMA ZZ3/opti convexe/tp1/lav_b_1000x1.dat\", delimiter=\" \", dtype=np.float64)\n",
        "\n",
        "At=np.transpose(A)\n",
        "x0 = np.transpose(np.zeros(np.shape(A)[1]))\n",
        "z0 = np.transpose(np.zeros(np.shape(b)[0]))\n",
        "u0 = np.transpose(np.zeros(np.shape(b)[0]))\n",
        "x, i = lav(A, b, x0, u0, z0)\n",
        "print(f\"Solution optimale :\\n {x}\\nNombre d'itérations : {i}\\n\")"
      ],
      "metadata": {
        "colab": {
          "base_uri": "https://localhost:8080/"
        },
        "id": "2H1V8YG6N6hO",
        "outputId": "283b1dec-c4fe-4b80-be69-b0f6e1e47258"
      },
      "execution_count": null,
      "outputs": [
        {
          "output_type": "stream",
          "name": "stdout",
          "text": [
            "Solution optimale :\n",
            " [-17.02108621  10.40348411  -3.20110322 -20.77227115  12.58900524\n",
            "  -7.87233591   1.8294263   -7.00455665   5.36937237   5.70035994\n",
            "  -1.6244547   -9.06318963  -1.98079095   1.76497653  -3.89393986\n",
            "   3.03206504 -13.02042604  -6.8330264  -13.14227105  -6.50063992\n",
            "   4.13017214   7.67447531  18.13838481  10.31270265  -6.46702708\n",
            "  -5.02471447  -7.14505198 -16.82990432   9.99099314 -26.67832613\n",
            "  12.38031386  -2.60848551  -8.01675082   9.13210095  -2.79204341\n",
            "  18.50228667   7.4192232  -14.31686403 -13.34160685  -0.44503369\n",
            " -20.5384469   10.50607563   1.82429255 -15.28713941   0.12518383\n",
            "  -5.69188655  17.81372309  10.35070776   8.90305281   1.26467361\n",
            "  -7.11177289  -4.81473177 -13.76056791  -6.69325232   7.45153308\n",
            "  17.10533619   7.09875226 -12.30861425  25.35266875  -2.05630364\n",
            "  -0.60221046  10.63083172   3.51389139  -9.95361149 -11.87984229\n",
            "  -2.0960608    7.50682116  12.67214418  -0.50508105  -2.7993983\n",
            "  -3.3593613   -5.08041619 -10.89435578   3.70201528  11.17488265\n",
            "  12.05945372  -2.71426082  -1.91218019 -13.31698179   6.83604419\n",
            " -15.85153699  -7.07680703   3.99972141   8.42694342  -8.30804825\n",
            "   1.03333608  -3.85563016  -2.60529697   0.07344784  -4.6341899\n",
            "   1.18421979 -24.07052279  -0.67032591  -6.22280658  12.68520354\n",
            " -10.86687088  14.73101139  -0.03621862   1.91761836  -9.14477945]\n",
            "Nombre d'itérations : 2\n",
            "\n"
          ]
        }
      ]
    },
    {
      "cell_type": "markdown",
      "source": [
        "### Comparaison avec les moindres carrés"
      ],
      "metadata": {
        "id": "8d2HlzZRO3v0"
      }
    },
    {
      "cell_type": "code",
      "source": [
        "x1 = np.linalg.lstsq(np.dot(At,A),np.dot(At,b),rcond=None)[0]\n",
        "print(f\"Solution optimale moindre carrés:\\n {x1}\")"
      ],
      "metadata": {
        "colab": {
          "base_uri": "https://localhost:8080/"
        },
        "id": "ot8aaNApO5Xk",
        "outputId": "482035e4-0910-44b6-f3d5-665c9e4b25df"
      },
      "execution_count": null,
      "outputs": [
        {
          "output_type": "stream",
          "name": "stdout",
          "text": [
            "Solution optimale moindre carrés:\n",
            " [-17.02108621  10.40348411  -3.20110322 -20.77227115  12.58900524\n",
            "  -7.87233591   1.8294263   -7.00455665   5.36937237   5.70035994\n",
            "  -1.6244547   -9.06318963  -1.98079095   1.76497653  -3.89393986\n",
            "   3.03206504 -13.02042604  -6.8330264  -13.14227105  -6.50063992\n",
            "   4.13017214   7.67447531  18.13838481  10.31270265  -6.46702708\n",
            "  -5.02471447  -7.14505198 -16.82990432   9.99099314 -26.67832613\n",
            "  12.38031386  -2.60848551  -8.01675082   9.13210095  -2.79204341\n",
            "  18.50228667   7.4192232  -14.31686403 -13.34160685  -0.44503369\n",
            " -20.5384469   10.50607563   1.82429255 -15.28713941   0.12518383\n",
            "  -5.69188655  17.81372309  10.35070776   8.90305281   1.26467361\n",
            "  -7.11177289  -4.81473177 -13.76056791  -6.69325232   7.45153308\n",
            "  17.10533619   7.09875226 -12.30861425  25.35266875  -2.05630364\n",
            "  -0.60221046  10.63083172   3.51389139  -9.95361149 -11.87984229\n",
            "  -2.0960608    7.50682116  12.67214418  -0.50508105  -2.7993983\n",
            "  -3.3593613   -5.08041619 -10.89435578   3.70201528  11.17488265\n",
            "  12.05945372  -2.71426082  -1.91218019 -13.31698179   6.83604419\n",
            " -15.85153699  -7.07680703   3.99972141   8.42694342  -8.30804825\n",
            "   1.03333608  -3.85563016  -2.60529697   0.07344784  -4.6341899\n",
            "   1.18421979 -24.07052279  -0.67032591  -6.22280658  12.68520354\n",
            " -10.86687088  14.73101139  -0.03621862   1.91761836  -9.14477945]\n"
          ]
        }
      ]
    },
    {
      "cell_type": "markdown",
      "source": [
        "On voit que les deux algorithmes trouvent très vite la solution exact du problème."
      ],
      "metadata": {
        "id": "DG9e1kYxQFT7"
      }
    },
    {
      "cell_type": "markdown",
      "source": [
        "### Calcul des erreurs et comparaison"
      ],
      "metadata": {
        "id": "zDt90rXtPEt5"
      }
    },
    {
      "cell_type": "code",
      "source": [
        "norme1_admm=[]\n",
        "norme2_admm=[]\n",
        "\n",
        "norme1_mcarrees=[]\n",
        "norme2_mcarrees=[]\n",
        "\n",
        "norme1_admm.append(np.linalg.norm(np.dot(A,x)-b,1))\n",
        "norme2_admm.append(np.linalg.norm(np.dot(A,x)-b,2))\n",
        "print(\"erreur norme 1= \", norme1_admm[-1])\n",
        "print(\"erreur norme 2= \", norme2_admm[-1])\n",
        "\n",
        "norme1_mcarrees.append(np.linalg.norm(np.dot(A,x1)-b,1))\n",
        "norme2_mcarrees.append(np.linalg.norm(np.dot(A,x1)-b,2))\n",
        "print(\"erreur norme 1= \", norme1_mcarrees[-1])\n",
        "print(\"erreur norme 2= \", norme2_mcarrees[-1])"
      ],
      "metadata": {
        "colab": {
          "base_uri": "https://localhost:8080/"
        },
        "id": "_10ZPAbxPNq4",
        "outputId": "abc0435d-9ba9-4d6e-f44e-054bf4f01b6a"
      },
      "execution_count": null,
      "outputs": [
        {
          "output_type": "stream",
          "name": "stdout",
          "text": [
            "erreur norme 1=  0.0001655826938158217\n",
            "erreur norme 2=  6.718695139729679e-06\n",
            "erreur norme 1=  0.00016558268490383943\n",
            "erreur norme 2=  6.718695095214837e-06\n"
          ]
        }
      ]
    },
    {
      "cell_type": "markdown",
      "source": [
        "##Conclusion"
      ],
      "metadata": {
        "id": "KVbYJr_qKQ-b"
      }
    },
    {
      "cell_type": "markdown",
      "source": [
        "On voit donc bien avec ces résultats que l'ADMM minimise l'erreur pour la norme 1 et que les moindres carrées minimise l'erreur pour la norme 2 sur tous les tests diffèrents."
      ],
      "metadata": {
        "id": "U7jjQLbCKZjD"
      }
    }
  ],
  "metadata": {
    "kernelspec": {
      "display_name": "Python 3 (ipykernel)",
      "language": "python",
      "name": "python3"
    },
    "language_info": {
      "codemirror_mode": {
        "name": "ipython",
        "version": 3
      },
      "file_extension": ".py",
      "mimetype": "text/x-python",
      "name": "python",
      "nbconvert_exporter": "python",
      "pygments_lexer": "ipython3",
      "version": "3.9.12"
    },
    "colab": {
      "provenance": [],
      "toc_visible": true,
      "include_colab_link": true
    }
  },
  "nbformat": 4,
  "nbformat_minor": 0
}