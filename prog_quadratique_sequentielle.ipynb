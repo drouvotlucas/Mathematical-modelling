{
  "nbformat": 4,
  "nbformat_minor": 0,
  "metadata": {
    "colab": {
      "provenance": [],
      "toc_visible": true,
      "include_colab_link": true
    },
    "kernelspec": {
      "name": "python3",
      "display_name": "Python 3"
    },
    "language_info": {
      "name": "python"
    }
  },
  "cells": [
    {
      "cell_type": "markdown",
      "metadata": {
        "id": "view-in-github",
        "colab_type": "text"
      },
      "source": [
        "<a href=\"https://colab.research.google.com/github/drouvotlucas/Mathematical-modelling/blob/main/prog_quadratique_sequentielle.ipynb\" target=\"_parent\"><img src=\"https://colab.research.google.com/assets/colab-badge.svg\" alt=\"Open In Colab\"/></a>"
      ]
    },
    {
      "cell_type": "markdown",
      "source": [
        "#Programmation quadratique sequentielle locale"
      ],
      "metadata": {
        "id": "0OAAzzFryK4T"
      }
    },
    {
      "cell_type": "markdown",
      "source": [
        "# Fonctions"
      ],
      "metadata": {
        "id": "Hg7w-n9iYjtO"
      }
    },
    {
      "cell_type": "code",
      "execution_count": 1,
      "metadata": {
        "id": "xeYpccP_Z9nS"
      },
      "outputs": [],
      "source": [
        "import numpy as np\n",
        "import matplotlib.pyplot as plt\n",
        "import seaborn as sns\n",
        "from sympy import *\n",
        "import scipy"
      ]
    },
    {
      "cell_type": "markdown",
      "source": [
        "##Fonction problème 1"
      ],
      "metadata": {
        "id": "tAP9BcgIKLlX"
      }
    },
    {
      "cell_type": "code",
      "source": [
        "def f1(x): return x[0]+x[1]\n",
        "\n",
        "def h1(x): return np.array([x[0]**2 + (x[1]-1)**2 -1])\n",
        "\n",
        "def der_f1(x): return np.transpose(np.array([1.,1]))\n",
        "\n",
        "def der_h1(x): return np.array([[2*x[0], 2*x[1]-2]])\n",
        "\n",
        "def der_2_f1(x): return np.array([[0.,0], [0,0]])\n",
        "\n",
        "def der_2_h1(x): return np.array([[[2.,0], [0,2]]])\n",
        "\n",
        "\n"
      ],
      "metadata": {
        "id": "kiO4NuotKfmC"
      },
      "execution_count": 2,
      "outputs": []
    },
    {
      "cell_type": "markdown",
      "source": [
        "##Fonction problème 2"
      ],
      "metadata": {
        "id": "oVCkLcLAKUmG"
      }
    },
    {
      "cell_type": "code",
      "source": [
        "def f2(x): return 100*(x[1]-x[0]**2)**2 + (1-x[0])**2\n",
        "\n",
        "def h2(x): return np.array([x[0] - x[1]**2 - 1/2])\n",
        "\n",
        "def der_f2(x): return np.array([100*(4*x[0]**3-4*x[1]*x[0]) + 2*x[0] - 2, 100*(2*x[1] - 2*x[0]**2)])\n",
        "\n",
        "def der_h2(x): return np.array([[1, -2*x[1]]])\n",
        "\n",
        "def der_2_f2(x): return np.array([[100*(12*x[0]**2-4*x[1])+2, -400*x[0]],\n",
        "                                  [-400*x[0], 200]])\n",
        "\n",
        "def der_2_h2(x): return np.array([[[0, 0],\n",
        "                                  [0, -2]]])\n",
        "\n",
        "\n"
      ],
      "metadata": {
        "id": "TdnEwjQaLMPM"
      },
      "execution_count": 3,
      "outputs": []
    },
    {
      "cell_type": "markdown",
      "source": [
        "##Fonction problème 3"
      ],
      "metadata": {
        "id": "Zff2mAHMKUtM"
      }
    },
    {
      "cell_type": "markdown",
      "source": [
        "Pour le problème 3, on introduit les variable d'écart zi pour réécrire le problème sous la forme:<br>\n",
        "x = [x1, x2, x3, z1, z2, z3]<br>\n",
        "min f(x) = 1000 - x1² - 2*x2² - x3² - x1*x2 - x1*x3 + 0.5 x alpha x norm2(z)<br>\n",
        "avec:<br>\n",
        "8*x1 + 14*x2 + 7*x3 -56 = 0<br>\n",
        "x1² + x2² +x3² -25 = 0<br>\n",
        "x1 - z1^2 = 0<br>\n",
        "x2 - z2^2 = 0<br>\n",
        "x3 - z3^2 = 0<br>"
      ],
      "metadata": {
        "id": "hxHkXUgs_pi3"
      }
    },
    {
      "cell_type": "code",
      "source": [
        "alpha3 = 1\n",
        "\n",
        "def f3(x): return 1000 - x[0]**2 - 2*x[1]**2 - x[2]**2 - x[0]*x[1] - x[0]*x[2] + 0.5*alpha3*np.sqrt(x[3]**2 + x[4]**2 + x[5]**2)\n",
        "\n",
        "def h3(x): return np.array([8*x[0] + 14*x[1] + 7*x[2] -56,\n",
        "                            x[0]**2 + x[1]**2 + x[2]**2 - 25,\n",
        "                            x[0] - x[3]**2,\n",
        "                            x[1] - x[4]**2,\n",
        "                            x[2] - x[5]**2])\n",
        "\n",
        "def der_f3(x):\n",
        "  normZ = np.linalg.norm(x[3:])\n",
        "  return np.array([-2*x[0] - x[1] - x[2],\n",
        "                  -4*x[1] - x[0],\n",
        "                  -2*x[2] - x[0],\n",
        "                  alpha3*x[3]/2*normZ,\n",
        "                  alpha3*x[4]/2*normZ,\n",
        "                  alpha3*x[3]/2*normZ])\n",
        "\n",
        "def der_h3(x): return np.array([[8, 14, 7, 0, 0, 0],\n",
        "                                [2*x[0], 2*x[1], 2*x[2], 0, 0, 0],\n",
        "                                [1, 0, 0, -2*x[3], 0, 0],\n",
        "                                [0, 1, 0, 0, -2*x[4], 0],\n",
        "                                [0, 0, 1, 0, 0, -2*x[5]]])\n",
        "\n",
        "def der_2_f3(x):\n",
        "  invNormZ = 1/np.linalg.norm(x[3:])\n",
        "  return np.array([[-2., -1., -1., 0, 0, 0],\n",
        "                                  [-1., -4., 0., 0, 0, 0],\n",
        "                                  [-1., 0., -2., 0, 0, 0],\n",
        "                                  [0, 0, 0, 0.5*alpha3*(invNormZ - (x[3]**2)*invNormZ**3), -0.5*alpha3*x[3]*x[4]*invNormZ**3, -0.5*alpha3*x[3]*x[5]*invNormZ**3],\n",
        "                                  [0, 0, 0, -0.5*alpha3*x[4]*x[3]*invNormZ**3, 0.5*alpha3*(invNormZ - (x[4]**2)*invNormZ**3), -0.5*alpha3*x[4]*x[5]*invNormZ**3],\n",
        "                                  [0, 0, 0, -0.5*alpha3*x[5]*x[3]*invNormZ**3, -0.5*alpha3*x[5]*x[4]*invNormZ**3, 0.5*alpha3*(invNormZ - (x[5]**2)*invNormZ**3)]])\n",
        "\n",
        "def der_2_h3(x):\n",
        "  der_2_h3_x = np.zeros((5, 6, 6))\n",
        "  der_2_h3_x[1][0][0] = 2.\n",
        "  der_2_h3_x[1][1][1] = 2.\n",
        "  der_2_h3_x[1][2][2] = 2.\n",
        "  der_2_h3_x[2][3][3] = -2.\n",
        "  der_2_h3_x[3][4][4] = -2.\n",
        "  der_2_h3_x[4][5][5] = -2.\n",
        "  return der_2_h3_x\n"
      ],
      "metadata": {
        "id": "3JywFg6oLM2v"
      },
      "execution_count": 4,
      "outputs": []
    },
    {
      "cell_type": "markdown",
      "source": [
        "##Fonction problème 4"
      ],
      "metadata": {
        "id": "-kOa-cosKVFd"
      }
    },
    {
      "cell_type": "markdown",
      "source": [
        "Pour le problème 4, on introduit les variables d'écart yi et zi pour réécrire le problème sous la forme:<br>\n",
        "x = [x1, x2, ..., x10,\n",
        "     y1, y2, ..., y10,\n",
        "     z1, z2, ..., z10]<br>\n",
        "min F(x) = f(x) + 0.5 x alpha x norm2([y,z])<br>\n",
        "avec:<br>\n",
        "xi - 2.001 - yi² = 0<br>\n",
        "9.999 - xi - zi² = 0"
      ],
      "metadata": {
        "id": "zc7sfc3d69r1"
      }
    },
    {
      "cell_type": "code",
      "source": [
        "alpha4 = 0.01\n",
        "\n",
        "def f4(x):\n",
        "  ret = 0\n",
        "  prod = 1\n",
        "  for i in range(10):\n",
        "    ret += np.log(x[i] - 2)**2 + np.log(10 - x[i])**2\n",
        "    prod = prod * x[i]\n",
        "\n",
        "  ret = ret - 10*prod**2 + 0.5*alpha4*np.linalg.norm(x[10:30])\n",
        "\n",
        "  return ret\n",
        "\n",
        "def h4(x):\n",
        "  return np.array([\n",
        "      x[0] - 2.001 - x[10]**2,\n",
        "      9.999 - x[0] - x[20]**2,\n",
        "      x[1] - 2.001 - x[11]**2,\n",
        "      9.999 - x[1] - x[21]**2,\n",
        "      x[2] - 2.001 - x[12]**2,\n",
        "      9.999 - x[2] - x[22]**2,\n",
        "      x[3] - 2.001 - x[13]**2,\n",
        "      9.999 - x[3] - x[23]**2,\n",
        "      x[4] - 2.001 - x[14]**2,\n",
        "      9.999 - x[4] - x[24]**2,\n",
        "      x[5] - 2.001 - x[15]**2,\n",
        "      9.999 - x[5] - x[25]**2,\n",
        "      x[6] - 2.001 - x[16]**2,\n",
        "      9.999 - x[6] - x[26]**2,\n",
        "      x[7] - 2.001 - x[17]**2,\n",
        "      9.999 - x[7] - x[27]**2,\n",
        "      x[8] - 2.001 - x[18]**2,\n",
        "      9.999 - x[8] - x[28]**2,\n",
        "      x[9] - 2.001 - x[19]**2,\n",
        "      9.999 - x[9] - x[29]**2\n",
        "  ])\n",
        "\n",
        "\n",
        "def der_f4(x):\n",
        "  prod = 1\n",
        "  for i in range(10):\n",
        "    prod = prod * x[i]\n",
        "  prodCarre = prod**2\n",
        "  normYZ = np.linalg.norm(x[10:])\n",
        "  return np.array([\n",
        "      2*((np.log(x[0] - 2)/(x[0] - 2)) - (np.log(10 - x[0])/(10-x[0]))) - 10*2*prodCarre/x[0],\n",
        "      2*((np.log(x[1] - 2)/(x[1] - 2)) - (np.log(10 - x[1])/(10-x[1]))) - 10*2*prodCarre/x[1],\n",
        "      2*((np.log(x[2] - 2)/(x[2] - 2)) - (np.log(10 - x[2])/(10-x[2]))) - 10*2*prodCarre/x[2],\n",
        "      2*((np.log(x[3] - 2)/(x[3] - 2)) - (np.log(10 - x[3])/(10-x[3]))) - 10*2*prodCarre/x[3],\n",
        "      2*((np.log(x[4] - 2)/(x[4] - 2)) - (np.log(10 - x[4])/(10-x[4]))) - 10*2*prodCarre/x[4],\n",
        "      2*((np.log(x[5] - 2)/(x[5] - 2)) - (np.log(10 - x[5])/(10-x[5]))) - 10*2*prodCarre/x[5],\n",
        "      2*((np.log(x[6] - 2)/(x[6] - 2)) - (np.log(10 - x[6])/(10-x[6]))) - 10*2*prodCarre/x[6],\n",
        "      2*((np.log(x[7] - 2)/(x[7] - 2)) - (np.log(10 - x[7])/(10-x[7]))) - 10*2*prodCarre/x[7],\n",
        "      2*((np.log(x[8] - 2)/(x[8] - 2)) - (np.log(10 - x[8])/(10-x[8]))) - 10*2*prodCarre/x[8],\n",
        "      2*((np.log(x[9] - 2)/(x[9] - 2)) - (np.log(10 - x[9])/(10-x[9]))) - 10*2*prodCarre/x[9],\n",
        "      alpha4*x[10]/2*normYZ,\n",
        "      alpha4*x[11]/2*normYZ,\n",
        "      alpha4*x[12]/2*normYZ,\n",
        "      alpha4*x[13]/2*normYZ,\n",
        "      alpha4*x[14]/2*normYZ,\n",
        "      alpha4*x[15]/2*normYZ,\n",
        "      alpha4*x[16]/2*normYZ,\n",
        "      alpha4*x[17]/2*normYZ,\n",
        "      alpha4*x[18]/2*normYZ,\n",
        "      alpha4*x[19]/2*normYZ,\n",
        "      alpha4*x[20]/2*normYZ,\n",
        "      alpha4*x[21]/2*normYZ,\n",
        "      alpha4*x[22]/2*normYZ,\n",
        "      alpha4*x[23]/2*normYZ,\n",
        "      alpha4*x[24]/2*normYZ,\n",
        "      alpha4*x[25]/2*normYZ,\n",
        "      alpha4*x[26]/2*normYZ,\n",
        "      alpha4*x[27]/2*normYZ,\n",
        "      alpha4*x[28]/2*normYZ,\n",
        "      alpha4*x[29]/2*normYZ\n",
        "  ])\n",
        "\n",
        "def der_h4(x):\n",
        "  ret = np.zeros((20,30))\n",
        "  for i in range(10):\n",
        "    ret[2*i,i] = 1\n",
        "    ret[2*i,i+10] = -2*x[i+10]\n",
        "    ret[2*i+1,i] = -1\n",
        "    ret[2*i,i+20] = -2*x[i+20]\n",
        "  return ret\n",
        "\n",
        "def der_2_f4(x):\n",
        "  ret = np.zeros((30,30))\n",
        "  prod = 1\n",
        "  for i in range(10):\n",
        "    prod = prod * x[i]\n",
        "  prodCarre = prod**2\n",
        "  for i in range(10):\n",
        "    for j in range(10):\n",
        "      if (i==j):\n",
        "        ret[i,i] = (2*(1 - np.log(x[i] -2))/((x[i] - 2)**2)) + (2*(1 - np.log(10 - x[i]))/((10 - x[i])**2)) - 10*2*prodCarre/(x[i]**2)\n",
        "      else:\n",
        "        ret[i,j] = -10*4*prodCarre/(x[i]*x[j])\n",
        "\n",
        "\n",
        "  invNormYZ = 1/np.linalg.norm(x[10:])\n",
        "  for i in range(10,30):\n",
        "    for j in range(10,30):\n",
        "      if (i==j):\n",
        "        ret[i,j] = 0.5*alpha4*(invNormYZ - (x[j]**2)*invNormYZ**3)\n",
        "      else:\n",
        "        ret[i,j] = -0.5*alpha4*x[i]*x[j]*invNormYZ**3\n",
        "\n",
        "  return ret\n",
        "\n",
        "\n",
        "def der_2_h4(x):\n",
        "  ret = np.zeros((20,30,30))\n",
        "  for i in range(10):\n",
        "    ret[2*i,i+10,i+10] = -2\n",
        "    ret[2*i,i+20,i+20] = -2\n",
        "  return ret"
      ],
      "metadata": {
        "id": "AV_cV-pPLNZr"
      },
      "execution_count": 5,
      "outputs": []
    },
    {
      "cell_type": "markdown",
      "source": [
        "#Algorithme\n"
      ],
      "metadata": {
        "id": "HArT78rGKDg5"
      }
    },
    {
      "cell_type": "code",
      "source": [
        "def ps(L,gf,gh,h):\n",
        "  A = np.empty((L.shape[0] + gh.shape[0], L.shape[1] + gh.shape[0]))\n",
        "  A[:-gh.shape[0], :-gh.shape[0]] = L\n",
        "  A[L.shape[0]:, :-gh.shape[0]] = gh\n",
        "  A[:-gh.shape[0], L.shape[0]:] = np.transpose(gh)\n",
        "  A[-gh.shape[0]:, -gh.shape[0]:] = 0\n",
        "  b = np.empty((gf.shape[0] + len(h)))\n",
        "  b[:gf.shape[0]] = -gf\n",
        "  b[gf.shape[0]:] = -h\n",
        "  x = scipy.sparse.linalg.gmres(A, b)\n",
        "  return x\n"
      ],
      "metadata": {
        "id": "EnaSes2xOUwN"
      },
      "execution_count": 6,
      "outputs": []
    },
    {
      "cell_type": "code",
      "source": [
        "def sqp(x0,lbd0,f,h,der_f,der_h,der_2_f,der_2_h):\n",
        "  eps=0.0001\n",
        "  lbdk = lbd0\n",
        "  xk = x0\n",
        "  cond = 2*eps\n",
        "  iter = 0\n",
        "  while (cond > eps and iter<100):\n",
        "\n",
        "    h_xk = h(xk)\n",
        "    der_f_xk = der_f(xk)\n",
        "    der_h_xk = der_h(xk)\n",
        "    der_2_f_xk = der_2_f(xk)\n",
        "    der_2_h_xk = der_2_h(xk)\n",
        "\n",
        "    L = der_2_f_xk\n",
        "    for i in range(len(der_2_h_xk)):\n",
        "      L += lbdk[i] * der_2_h_xk[i]\n",
        "\n",
        "    ret = ps(L,der_f_xk,der_h_xk,h_xk)\n",
        "    xk = xk + ret[0][:-der_h_xk.shape[0]]\n",
        "    lbdk = ret[0][-der_h_xk.shape[0]:]\n",
        "    cond = np.linalg.norm(der_f_xk + lbdk@der_h_xk)\n",
        "    iter += 1\n",
        "  return iter, cond, xk"
      ],
      "metadata": {
        "id": "7Nj71uG5_YsW"
      },
      "execution_count": 7,
      "outputs": []
    },
    {
      "cell_type": "markdown",
      "source": [
        "# Résolution"
      ],
      "metadata": {
        "id": "396IPS-x44WA"
      }
    },
    {
      "cell_type": "markdown",
      "source": [
        "## Problème 1"
      ],
      "metadata": {
        "id": "qvQ2Cv--5S7l"
      }
    },
    {
      "cell_type": "code",
      "source": [
        "x0=np.array([1,-1])\n",
        "lbd0 = np.array([1])\n",
        "sqp(x0, lbd0, f1, h1, der_f1, der_h1, der_2_f1, der_2_h1)"
      ],
      "metadata": {
        "colab": {
          "base_uri": "https://localhost:8080/"
        },
        "id": "kDeuooJoNIpl",
        "outputId": "0c969c22-fa6f-4ada-87df-1f26a7fdafc1"
      },
      "execution_count": 8,
      "outputs": [
        {
          "output_type": "execute_result",
          "data": {
            "text/plain": [
              "(6, 4.68652188396493e-05, array([-0.70710678,  0.29289322]))"
            ]
          },
          "metadata": {},
          "execution_count": 8
        }
      ]
    },
    {
      "cell_type": "markdown",
      "source": [
        "Exemple 1: le premier exemple de x0 donne 6 iterations contre 64 et 67 pour les deux exemples suivants."
      ],
      "metadata": {
        "id": "RSnxqKY_rJqX"
      }
    },
    {
      "cell_type": "markdown",
      "source": [
        "## Problème 2"
      ],
      "metadata": {
        "id": "lOQKZprz5YX2"
      }
    },
    {
      "cell_type": "code",
      "source": [
        "x0=np.array([0.66,0.40])\n",
        "lbd0 = np.array([10])\n",
        "sqp(x0, lbd0, f2, h2, der_f2, der_h2, der_2_f2, der_2_h2)"
      ],
      "metadata": {
        "colab": {
          "base_uri": "https://localhost:8080/"
        },
        "id": "_oQjvamvxrgb",
        "outputId": "34bbd2d6-74ff-4a5b-8502-f9bb65962cd3"
      },
      "execution_count": 9,
      "outputs": [
        {
          "output_type": "execute_result",
          "data": {
            "text/plain": [
              "(5, 1.5418376029830997e-07, array([0.66402949, 0.40500554]))"
            ]
          },
          "metadata": {},
          "execution_count": 9
        }
      ]
    },
    {
      "cell_type": "markdown",
      "source": [
        "## Problème 3"
      ],
      "metadata": {
        "id": "CkjYLnTx5a0t"
      }
    },
    {
      "cell_type": "code",
      "source": [
        "x0=np.array([3., 3, 3, 1, 1, 1])\n",
        "lbd0 = np.array([1, 1, 1, 1, 1])\n",
        "sqp(x0, lbd0, f3, h3, der_f3, der_h3, der_2_f3, der_2_h3)"
      ],
      "metadata": {
        "colab": {
          "base_uri": "https://localhost:8080/"
        },
        "id": "pR_JSmjCMOB4",
        "outputId": "20df6ec3-9408-4b14-e03c-615ee84e9676"
      },
      "execution_count": 10,
      "outputs": [
        {
          "output_type": "execute_result",
          "data": {
            "text/plain": [
              "(11,\n",
              " 3.382468030254123e-05,\n",
              " array([3.52695087, 0.21584073, 3.53751754, 1.8780178 , 0.46458663,\n",
              "        1.88082895]))"
            ]
          },
          "metadata": {},
          "execution_count": 10
        }
      ]
    },
    {
      "cell_type": "markdown",
      "source": [
        "## Problème 4"
      ],
      "metadata": {
        "id": "cGLoA3Km5e34"
      }
    },
    {
      "cell_type": "code",
      "source": [
        "x0=np.array([9.,9,9,9,9,9,9,9,9,9,1,1,1,1,1,1,1,1,1,1,1,1,1,1,1,1,1,1,1,1])\n",
        "lbd0 = 1000*np.ones((20))\n",
        "sqp(x0, lbd0, f4, h4, der_f4, der_h4, der_2_f4, der_2_h4)"
      ],
      "metadata": {
        "colab": {
          "base_uri": "https://localhost:8080/"
        },
        "id": "h9lkiyUf-aba",
        "outputId": "7f89d0b9-53ef-4c6f-e1eb-584f0bca5036"
      },
      "execution_count": 11,
      "outputs": [
        {
          "output_type": "stream",
          "name": "stderr",
          "text": [
            "<ipython-input-5-3313ada19812>:46: RuntimeWarning: invalid value encountered in log\n",
            "  2*((np.log(x[0] - 2)/(x[0] - 2)) - (np.log(10 - x[0])/(10-x[0]))) - 10*2*prodCarre/x[0],\n",
            "<ipython-input-5-3313ada19812>:47: RuntimeWarning: invalid value encountered in log\n",
            "  2*((np.log(x[1] - 2)/(x[1] - 2)) - (np.log(10 - x[1])/(10-x[1]))) - 10*2*prodCarre/x[1],\n",
            "<ipython-input-5-3313ada19812>:48: RuntimeWarning: invalid value encountered in log\n",
            "  2*((np.log(x[2] - 2)/(x[2] - 2)) - (np.log(10 - x[2])/(10-x[2]))) - 10*2*prodCarre/x[2],\n",
            "<ipython-input-5-3313ada19812>:49: RuntimeWarning: invalid value encountered in log\n",
            "  2*((np.log(x[3] - 2)/(x[3] - 2)) - (np.log(10 - x[3])/(10-x[3]))) - 10*2*prodCarre/x[3],\n",
            "<ipython-input-5-3313ada19812>:50: RuntimeWarning: invalid value encountered in log\n",
            "  2*((np.log(x[4] - 2)/(x[4] - 2)) - (np.log(10 - x[4])/(10-x[4]))) - 10*2*prodCarre/x[4],\n",
            "<ipython-input-5-3313ada19812>:51: RuntimeWarning: invalid value encountered in log\n",
            "  2*((np.log(x[5] - 2)/(x[5] - 2)) - (np.log(10 - x[5])/(10-x[5]))) - 10*2*prodCarre/x[5],\n",
            "<ipython-input-5-3313ada19812>:52: RuntimeWarning: invalid value encountered in log\n",
            "  2*((np.log(x[6] - 2)/(x[6] - 2)) - (np.log(10 - x[6])/(10-x[6]))) - 10*2*prodCarre/x[6],\n",
            "<ipython-input-5-3313ada19812>:53: RuntimeWarning: invalid value encountered in log\n",
            "  2*((np.log(x[7] - 2)/(x[7] - 2)) - (np.log(10 - x[7])/(10-x[7]))) - 10*2*prodCarre/x[7],\n",
            "<ipython-input-5-3313ada19812>:54: RuntimeWarning: invalid value encountered in log\n",
            "  2*((np.log(x[8] - 2)/(x[8] - 2)) - (np.log(10 - x[8])/(10-x[8]))) - 10*2*prodCarre/x[8],\n",
            "<ipython-input-5-3313ada19812>:55: RuntimeWarning: invalid value encountered in log\n",
            "  2*((np.log(x[9] - 2)/(x[9] - 2)) - (np.log(10 - x[9])/(10-x[9]))) - 10*2*prodCarre/x[9],\n",
            "<ipython-input-5-3313ada19812>:96: RuntimeWarning: invalid value encountered in log\n",
            "  ret[i,i] = (2*(1 - np.log(x[i] -2))/((x[i] - 2)**2)) + (2*(1 - np.log(10 - x[i]))/((10 - x[i])**2)) - 10*2*prodCarre/(x[i]**2)\n"
          ]
        },
        {
          "output_type": "execute_result",
          "data": {
            "text/plain": [
              "(29,\n",
              " nan,\n",
              " array([nan, nan, nan, nan, nan, nan, nan, nan, nan, nan, nan, nan, nan,\n",
              "        nan, nan, nan, nan, nan, nan, nan, nan, nan, nan, nan, nan, nan,\n",
              "        nan, nan, nan, nan]))"
            ]
          },
          "metadata": {},
          "execution_count": 11
        }
      ]
    },
    {
      "cell_type": "markdown",
      "source": [
        "#Conclusion"
      ],
      "metadata": {
        "id": "dGw8vQPV89ik"
      }
    },
    {
      "cell_type": "markdown",
      "source": [
        "Nous avons pu implémenter l'algorithme de programmation quadratique séquentielle locale. Pour les problèmes 1, 2 et 3 nous avons obtenu un résultat en 6, 5 et 11 itérations respectivement. Cependant pour le problème 4, l'algoritme n'est pas efficace, il ne se dirige pas vers le minimum et sort de la contrainte x>2, bien que nous ayons vérifier les calculs effectuer à la main."
      ],
      "metadata": {
        "id": "Xg5fFr7f9FiV"
      }
    }
  ]
}